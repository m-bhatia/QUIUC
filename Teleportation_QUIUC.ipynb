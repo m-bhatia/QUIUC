{
 "cells": [
  {
   "cell_type": "code",
   "execution_count": 1,
   "id": "86b29a1d-443a-4ff9-95df-220d87d31aba",
   "metadata": {},
   "outputs": [],
   "source": [
    "from qiskit import QuantumRegister, ClassicalRegister, QuantumCircuit\n",
    "\n",
    "qreg_q = QuantumRegister(3, 'q')\n",
    "creg_c = ClassicalRegister(2, 'c')\n",
    "circuit = QuantumCircuit(qreg_q, creg_c)\n",
    "\n",
    "circuit.reset(qreg_q[0])\n",
    "circuit.reset(qreg_q[1])\n",
    "circuit.reset(qreg_q[2])\n",
    "\n",
    "# Alice sends Bob a qubit state \n",
    "# Uses entanglement\n",
    "# Uses local operations and classical communication\n",
    "\n",
    "# intialize the qubit to teleport\n",
    "circuit.t(qreg_q[0])\n",
    "circuit.h(qreg_q[0])\n",
    "\n",
    "# TODO: distribute an entangled pair\n",
    "\n",
    "# Seperate setup from processing\n",
    "circuit.barrier(qreg_q[0])  \n",
    "circuit.barrier(qreg_q[1])\n",
    "circuit.barrier(qreg_q[2])\n",
    "\n",
    "# process Alice's qubits\n",
    "circuit.cx(qreg_q[0], qreg_q[1])\n",
    "circuit.h(qreg_q[0])\n",
    "\n",
    "# TODO: measure Alice's qubits and send results to Bob\n",
    "\n",
    "# process Bob's qubit until Bob has Alice's original qubit state\n",
    "circuit.z(qreg_q[2]).c_if(creg_c, 1)\n",
    "circuit.x(qreg_q[2]).c_if(creg_c, 1)\n",
    "\n",
    "print(circuit)\n",
    "\n",
    "\n",
    "#Hints:\n",
    "#To use the hadamard gate,  try circuit.h(qreg_q[index]) \n",
    "#To use the controlled not gate,  try circuit.cx(qreg_q[control_index], qreg_q[target_index])\n",
    "#To measure,  try circuit.measure(qreg_q[index], creg_c[index])"
   ]
  },
  {
   "cell_type": "code",
   "execution_count": null,
   "id": "689e6da2-0bfa-42b5-b0cc-d8a78168c1bb",
   "metadata": {},
   "outputs": [],
   "source": [
    "from qiskit import BasicAer\n",
    "\n",
    "backend = BasicAer.get_backend('qasm_simulator') # the device to run on"
   ]
  },
  {
   "cell_type": "code",
   "execution_count": null,
   "id": "37214355-2785-4b44-ade2-a325997054fd",
   "metadata": {},
   "outputs": [],
   "source": [
    "from qiskit import transpile\n",
    "\n",
    "# execute the quantum circuit\n",
    "result = backend.run(transpile(circuit, backend), shots=1000).result()\n",
    "counts  = result.get_counts(circuit)\n",
    "print(counts)"
   ]
  },
  {
   "cell_type": "code",
   "execution_count": null,
   "id": "0dd5908b-0351-4f7b-aaa8-b3fad1d518e0",
   "metadata": {},
   "outputs": [],
   "source": [
    "from qiskit.visualization import plot_histogram\n",
    "\n",
    "plot_histogram(counts)"
   ]
  }
 ],
 "metadata": {
  "kernelspec": {
   "display_name": "Qiskit v0.31.0 (ipykernel)",
   "language": "python",
   "name": "python3"
  },
  "language_info": {
   "codemirror_mode": {
    "name": "ipython",
    "version": 3
   },
   "file_extension": ".py",
   "mimetype": "text/x-python",
   "name": "python",
   "nbconvert_exporter": "python",
   "pygments_lexer": "ipython3",
   "version": "3.8.10"
  },
  "widgets": {
   "application/vnd.jupyter.widget-state+json": {
    "state": {
     "0bcd661e47d744bf9785441a9db7d5eb": {
      "model_module": "@jupyter-widgets/base",
      "model_module_version": "1.2.0",
      "model_name": "LayoutModel",
      "state": {
       "width": "70px"
      }
     },
     "0eb4da63718a44619cbbc6c90dad2527": {
      "model_module": "@jupyter-widgets/controls",
      "model_module_version": "1.5.0",
      "model_name": "DescriptionStyleModel",
      "state": {
       "description_width": ""
      }
     },
     "10a6e661d0034f87ac4a34044a75b542": {
      "model_module": "@jupyter-widgets/controls",
      "model_module_version": "1.5.0",
      "model_name": "HTMLModel",
      "state": {
       "layout": "IPY_MODEL_cc62d7e3d68a484abe8f03c5ab45c540",
       "style": "IPY_MODEL_a58f95831a7c465d8a61b4a1946510a1",
       "value": "<h5>Job ID</h5>"
      }
     },
     "13bcda6d8bfa483a9e53d340b0d6e487": {
      "model_module": "@jupyter-widgets/base",
      "model_module_version": "1.2.0",
      "model_name": "LayoutModel",
      "state": {
       "grid_template_areas": "\n                                       \". . . . right \"\n                                        ",
       "grid_template_columns": "20% 20% 20% 20% 20%",
       "width": "100%"
      }
     },
     "287903dde93341b1ac1cfc023bb08ba1": {
      "model_module": "@jupyter-widgets/controls",
      "model_module_version": "1.5.0",
      "model_name": "HTMLModel",
      "state": {
       "layout": "IPY_MODEL_d8e375a25a2247db9f3d5bc74b1d898d",
       "style": "IPY_MODEL_f3cfd2a1e27143bb88e4efbf83712a4b",
       "value": "<p style='font-family: IBM Plex Sans, Arial, Helvetica, sans-serif; font-size: 20px; font-weight: medium;'>Circuit Properties</p>"
      }
     },
     "36176b2e76d945f890c43e5c388d2e4f": {
      "model_module": "@jupyter-widgets/controls",
      "model_module_version": "1.5.0",
      "model_name": "HBoxModel",
      "state": {
       "children": [
        "IPY_MODEL_10a6e661d0034f87ac4a34044a75b542",
        "IPY_MODEL_6d4bdf2c51314cb7b890648cf17e6b67",
        "IPY_MODEL_ad4d514cbf834a04917eab580a9b616f",
        "IPY_MODEL_a9037de83276494f9428f4535af7c6eb",
        "IPY_MODEL_a33a23f562554c45af79d6c262c5560e"
       ],
       "layout": "IPY_MODEL_75dbeab09e6f43d2b02594abee188b5c"
      }
     },
     "48d3e73815f14128b7846e1b2add1cbd": {
      "model_module": "@jupyter-widgets/base",
      "model_module_version": "1.2.0",
      "model_name": "LayoutModel",
      "state": {
       "width": "95px"
      }
     },
     "4bd4bc0835eb476983f364d64f0fceae": {
      "model_module": "@jupyter-widgets/base",
      "model_module_version": "1.2.0",
      "model_name": "LayoutModel",
      "state": {
       "width": "145px"
      }
     },
     "68d9d21aa9514433ac6f85eded33c11a": {
      "model_module": "@jupyter-widgets/controls",
      "model_module_version": "1.5.0",
      "model_name": "ButtonModel",
      "state": {
       "button_style": "primary",
       "description": "Clear",
       "layout": "IPY_MODEL_7a1bd9ff6f9e42838ca0e532c561b86b",
       "style": "IPY_MODEL_e3fc504686cd4ab09580d2aa54739e8b"
      }
     },
     "6d4bdf2c51314cb7b890648cf17e6b67": {
      "model_module": "@jupyter-widgets/controls",
      "model_module_version": "1.5.0",
      "model_name": "HTMLModel",
      "state": {
       "layout": "IPY_MODEL_4bd4bc0835eb476983f364d64f0fceae",
       "style": "IPY_MODEL_e8932d3b1f74432c8f67661fda3fd3d7",
       "value": "<h5>Backend</h5>"
      }
     },
     "75dbeab09e6f43d2b02594abee188b5c": {
      "model_module": "@jupyter-widgets/base",
      "model_module_version": "1.2.0",
      "model_name": "LayoutModel",
      "state": {
       "margin": "0px 0px 0px 37px",
       "width": "600px"
      }
     },
     "7a1bd9ff6f9e42838ca0e532c561b86b": {
      "model_module": "@jupyter-widgets/base",
      "model_module_version": "1.2.0",
      "model_name": "LayoutModel",
      "state": {
       "grid_area": "right",
       "padding": "0px 0px 0px 0px",
       "width": "70px"
      }
     },
     "a33a23f562554c45af79d6c262c5560e": {
      "model_module": "@jupyter-widgets/controls",
      "model_module_version": "1.5.0",
      "model_name": "HTMLModel",
      "state": {
       "layout": "IPY_MODEL_bc935ad002f94a57ba255f67b3aba073",
       "style": "IPY_MODEL_ea97b301d8f44e2a919ce10b394b854c",
       "value": "<h5>Message</h5>"
      }
     },
     "a58f95831a7c465d8a61b4a1946510a1": {
      "model_module": "@jupyter-widgets/controls",
      "model_module_version": "1.5.0",
      "model_name": "DescriptionStyleModel",
      "state": {
       "description_width": ""
      }
     },
     "a9037de83276494f9428f4535af7c6eb": {
      "model_module": "@jupyter-widgets/controls",
      "model_module_version": "1.5.0",
      "model_name": "HTMLModel",
      "state": {
       "layout": "IPY_MODEL_0bcd661e47d744bf9785441a9db7d5eb",
       "style": "IPY_MODEL_f86cb80aed6e4cdb80c8c0d817e32d91",
       "value": "<h5>Queue</h5>"
      }
     },
     "ad4d514cbf834a04917eab580a9b616f": {
      "model_module": "@jupyter-widgets/controls",
      "model_module_version": "1.5.0",
      "model_name": "HTMLModel",
      "state": {
       "layout": "IPY_MODEL_48d3e73815f14128b7846e1b2add1cbd",
       "style": "IPY_MODEL_0eb4da63718a44619cbbc6c90dad2527",
       "value": "<h5>Status</h5>"
      }
     },
     "bc935ad002f94a57ba255f67b3aba073": {
      "model_module": "@jupyter-widgets/base",
      "model_module_version": "1.2.0",
      "model_name": "LayoutModel",
      "state": {}
     },
     "cc62d7e3d68a484abe8f03c5ab45c540": {
      "model_module": "@jupyter-widgets/base",
      "model_module_version": "1.2.0",
      "model_name": "LayoutModel",
      "state": {
       "width": "190px"
      }
     },
     "cdde76d6b3f04b2ea1c86c51c6f0d558": {
      "model_module": "@jupyter-widgets/controls",
      "model_module_version": "1.5.0",
      "model_name": "GridBoxModel",
      "state": {
       "children": [
        "IPY_MODEL_68d9d21aa9514433ac6f85eded33c11a"
       ],
       "layout": "IPY_MODEL_13bcda6d8bfa483a9e53d340b0d6e487"
      }
     },
     "d8e375a25a2247db9f3d5bc74b1d898d": {
      "model_module": "@jupyter-widgets/base",
      "model_module_version": "1.2.0",
      "model_name": "LayoutModel",
      "state": {
       "margin": "0px 0px 10px 0px"
      }
     },
     "e3fc504686cd4ab09580d2aa54739e8b": {
      "model_module": "@jupyter-widgets/controls",
      "model_module_version": "1.5.0",
      "model_name": "ButtonStyleModel",
      "state": {}
     },
     "e8932d3b1f74432c8f67661fda3fd3d7": {
      "model_module": "@jupyter-widgets/controls",
      "model_module_version": "1.5.0",
      "model_name": "DescriptionStyleModel",
      "state": {
       "description_width": ""
      }
     },
     "ea97b301d8f44e2a919ce10b394b854c": {
      "model_module": "@jupyter-widgets/controls",
      "model_module_version": "1.5.0",
      "model_name": "DescriptionStyleModel",
      "state": {
       "description_width": ""
      }
     },
     "f3cfd2a1e27143bb88e4efbf83712a4b": {
      "model_module": "@jupyter-widgets/controls",
      "model_module_version": "1.5.0",
      "model_name": "DescriptionStyleModel",
      "state": {
       "description_width": ""
      }
     },
     "f86cb80aed6e4cdb80c8c0d817e32d91": {
      "model_module": "@jupyter-widgets/controls",
      "model_module_version": "1.5.0",
      "model_name": "DescriptionStyleModel",
      "state": {
       "description_width": ""
      }
     }
    },
    "version_major": 2,
    "version_minor": 0
   }
  }
 },
 "nbformat": 4,
 "nbformat_minor": 5
}
